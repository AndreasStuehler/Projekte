{
 "cells": [
  {
   "cell_type": "code",
   "execution_count": 1,
   "metadata": {},
   "outputs": [],
   "source": [
    "import numpy as np\n"
   ]
  },
  {
   "cell_type": "code",
   "execution_count": 7,
   "metadata": {},
   "outputs": [],
   "source": [
    "solution=np.random.randint(0,7,size=5)\n",
    "def superhirn(answer,status):\n",
    "    \n",
    "    status=True\n",
    "    \n",
    "    while status==True:\n",
    "    \n",
    "        #Randomly choosing a solution for the game\n",
    "    \n",
    "        state=np.zeros(len(solution))\n",
    "        reward_list=[]\n",
    "\n",
    "    \n",
    "    \n",
    "    \n",
    "        #In order to get the answer that a number is right but the position is wrong i define two lists where\n",
    "        #the numbers get saved temporary in order to calculate the intersect\n",
    "        t_state=[]\n",
    "        t_solution=[]\n",
    "    \n",
    "    \n",
    "        for i in range(len(solution)):\n",
    "                 \n",
    "                state[i]=answer[i]\n",
    "            \n",
    "                if np.array_equal(state[i],solution[i])==True:\n",
    "                    reward_list.append(2)\n",
    "            \n",
    "                else:\n",
    "                    t_state.append(state[i])\n",
    "                    t_solution.append(solution[i])\n",
    "            \n",
    "                    t_state_array=np.array(t_state)\n",
    "                    t_solution_array=np.array(t_solution)\n",
    "        #Saving the intersect in an array which consists of all the \"colors\" which are in the solution but are not at the right position\n",
    "        color_right=np.intersect1d(t_state_array,t_solution_array)\n",
    "        for n in range(len(color_right)):\n",
    "            reward_list.append(1)\n",
    "        for f in range(5-len(color_right)):\n",
    "            reward_list.append(0)\n",
    "        reward_vector=np.array(reward_list)       \n",
    "    \n",
    "    \n",
    "        reward=np.array([[np.sum(reward_vector,axis=0)],[np.mean(reward_vector,axis=0)],[np.std(reward_vector,axis=0)]]).reshape(3,1)\n",
    "        \n",
    "        return state,reward_vector\n",
    "    "
   ]
  },
  {
   "cell_type": "code",
   "execution_count": 11,
   "metadata": {},
   "outputs": [
    {
     "data": {
      "text/plain": [
       "(array([8., 1., 3., 5., 7.]), array([2, 0, 0, 0, 0, 0]))"
      ]
     },
     "execution_count": 11,
     "metadata": {},
     "output_type": "execute_result"
    }
   ],
   "source": [
    "\n",
    "superhirn(np.array([8,1,3,5,7,]),True)"
   ]
  },
  {
   "cell_type": "code",
   "execution_count": 12,
   "metadata": {},
   "outputs": [
    {
     "name": "stdout",
     "output_type": "stream",
     "text": [
      "[1 1 4 1 1]\n"
     ]
    }
   ],
   "source": [
    "print(solution)"
   ]
  },
  {
   "cell_type": "code",
   "execution_count": null,
   "metadata": {},
   "outputs": [],
   "source": [
    "black=1\n",
    "white=2\n",
    "yellow=3\n",
    "orange=4\n",
    "green=5\n",
    "blue=6\n",
    "brown=7\n",
    "red=8"
   ]
  },
  {
   "cell_type": "code",
   "execution_count": 4,
   "metadata": {},
   "outputs": [],
   "source": [
    "def game(x,number_of_attempts):\n",
    "    \n",
    "    attempt=1\n",
    "    while attempt<=12:\n",
    "        \n",
    "        for i in range(number_of_attempts):\n",
    "            attempt+=1\n",
    "            \n",
    "        \n",
    "        \n",
    "        return "
   ]
  },
  {
   "cell_type": "code",
   "execution_count": null,
   "metadata": {},
   "outputs": [],
   "source": []
  },
  {
   "cell_type": "code",
   "execution_count": 5,
   "metadata": {},
   "outputs": [],
   "source": [
    "def naive_sum_reward_agent(env, num_episodes=500):\n",
    "    # this is the table that will hold our summated rewards for\n",
    "    # each action in each state\n",
    "    r_table = np.zeros((5, 2))\n",
    "    for g in range(num_episodes):\n",
    "        s = env.reset()\n",
    "        done = False\n",
    "        while not done:\n",
    "            if np.sum(r_table[s, :]) == 0:\n",
    "                # make a random selection of actions\n",
    "                a = np.random.randint(0, 2)\n",
    "            else:\n",
    "                # select the action with highest cummulative reward\n",
    "                a = np.argmax(r_table[s, :])\n",
    "            new_s, r, done, _ = env.step(a)\n",
    "            r_table[s, a] += r\n",
    "            s = new_s\n",
    "    return r_table"
   ]
  },
  {
   "cell_type": "code",
   "execution_count": null,
   "metadata": {},
   "outputs": [],
   "source": []
  },
  {
   "cell_type": "code",
   "execution_count": 83,
   "metadata": {},
   "outputs": [
    {
     "name": "stdout",
     "output_type": "stream",
     "text": [
      "[[1 2]\n",
      " [2 3]\n",
      " [4 5]]\n"
     ]
    }
   ],
   "source": [
    "a=np.array([[1,2],[2,3],[4,5]])\n",
    "print(a)"
   ]
  },
  {
   "cell_type": "code",
   "execution_count": 82,
   "metadata": {},
   "outputs": [
    {
     "data": {
      "text/plain": [
       "3"
      ]
     },
     "execution_count": 82,
     "metadata": {},
     "output_type": "execute_result"
    }
   ],
   "source": [
    "a[1,1]"
   ]
  },
  {
   "cell_type": "code",
   "execution_count": null,
   "metadata": {},
   "outputs": [],
   "source": []
  }
 ],
 "metadata": {
  "kernelspec": {
   "display_name": "Python 3",
   "language": "python",
   "name": "python3"
  },
  "language_info": {
   "codemirror_mode": {
    "name": "ipython",
    "version": 3
   },
   "file_extension": ".py",
   "mimetype": "text/x-python",
   "name": "python",
   "nbconvert_exporter": "python",
   "pygments_lexer": "ipython3",
   "version": "3.7.5"
  }
 },
 "nbformat": 4,
 "nbformat_minor": 2
}
